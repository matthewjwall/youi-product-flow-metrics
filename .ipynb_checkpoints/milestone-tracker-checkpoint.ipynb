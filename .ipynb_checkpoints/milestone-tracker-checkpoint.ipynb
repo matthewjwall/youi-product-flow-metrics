{
 "cells": [
  {
   "cell_type": "markdown",
   "metadata": {},
   "source": [
    "# Milestone Tracker"
   ]
  },
  {
   "cell_type": "code",
   "execution_count": 1,
   "metadata": {},
   "outputs": [],
   "source": [
    "from jira import JIRA\n",
    "import pandas as pd\n",
    "from datetime import datetime\n",
    "from scripts import youi_utils"
   ]
  },
  {
   "cell_type": "code",
   "execution_count": 2,
   "metadata": {},
   "outputs": [],
   "source": [
    "def get_pm_issues():\n",
    "    results = youi_utils.jira_search('project in (PM)')\n",
    "    file_name = 'milestone_' + datetime.now().strftime('%Y-%m-%d') + '.csv'\n",
    "    results.to_csv(file_name, encoding='utf-8', index=False)\n",
    "    return file_name"
   ]
  },
  {
   "cell_type": "code",
   "execution_count": 3,
   "metadata": {},
   "outputs": [],
   "source": [
    "pm_cl = pd.read_csv('pm_changelog_clean.csv', index=False)\n",
    "pm_cl.to_csv('pm_changelog_clean_noindex.csv', index=False)"
   ]
  },
  {
   "cell_type": "code",
   "execution_count": null,
   "metadata": {},
   "outputs": [],
   "source": []
  }
 ],
 "metadata": {
  "kernelspec": {
   "display_name": "Python 3",
   "language": "python",
   "name": "python3"
  },
  "language_info": {
   "codemirror_mode": {
    "name": "ipython",
    "version": 3
   },
   "file_extension": ".py",
   "mimetype": "text/x-python",
   "name": "python",
   "nbconvert_exporter": "python",
   "pygments_lexer": "ipython3",
   "version": "3.6.5"
  }
 },
 "nbformat": 4,
 "nbformat_minor": 2
}
