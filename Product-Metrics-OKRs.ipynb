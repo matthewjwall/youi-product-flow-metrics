{
 "cells": [
  {
   "cell_type": "code",
   "execution_count": 1,
   "metadata": {
    "scrolled": true
   },
   "outputs": [
    {
     "data": {
      "text/html": [
       "<script>\n",
       "code_show=true; \n",
       "function code_toggle() {\n",
       " if (code_show){\n",
       " $('div.input').hide();\n",
       " } else {\n",
       " $('div.input').show();\n",
       " }\n",
       " code_show = !code_show\n",
       "} \n",
       "$( document ).ready(code_toggle);\n",
       "</script>\n",
       "<form action=\"javascript:code_toggle()\"><input type=\"submit\" value=\"Source\"></form>"
      ],
      "text/plain": [
       "<IPython.core.display.HTML object>"
      ]
     },
     "execution_count": 1,
     "metadata": {},
     "output_type": "execute_result"
    }
   ],
   "source": [
    "from IPython.display import HTML\n",
    "import pandas as pd\n",
    "import datetime\n",
    "\n",
    "HTML('''<script>\n",
    "code_show=true; \n",
    "function code_toggle() {\n",
    " if (code_show){\n",
    " $('div.input').hide();\n",
    " } else {\n",
    " $('div.input').show();\n",
    " }\n",
    " code_show = !code_show\n",
    "} \n",
    "$( document ).ready(code_toggle);\n",
    "</script>\n",
    "<form action=\"javascript:code_toggle()\"><input type=\"submit\" value=\"Source\"></form>''')"
   ]
  },
  {
   "cell_type": "markdown",
   "metadata": {},
   "source": [
    "# Product Metrics & OKRs"
   ]
  },
  {
   "cell_type": "code",
   "execution_count": 2,
   "metadata": {},
   "outputs": [
    {
     "name": "stdout",
     "output_type": "stream",
     "text": [
      "Generated on 2019-09-19\n"
     ]
    }
   ],
   "source": [
    "now = datetime.datetime.now()\n",
    "print(\"Generated on \" + now.strftime(\"%Y-%m-%d\"))"
   ]
  },
  {
   "cell_type": "markdown",
   "metadata": {},
   "source": [
    "<hr>"
   ]
  },
  {
   "cell_type": "markdown",
   "metadata": {},
   "source": [
    "## Overview\n",
    "This document details a process for the acquisition and analysis of data pertaining to Product Management Metrics and OKRs. The following topics are addressed:\n",
    "\n",
    "### [Data Acquisition](#Data-Acquisition)\n",
    "How the data is extracted, proposed schema, mapping of existing data to metrics, requested product engineering lift and rationale supporting the proposed metrics.\n",
    "### [Metric: Milestone Investment](#Milestone-Investment)\n",
    "The number of issues closed and hours spent towards each of the product investment categories (Product Backlog, CRT, Quality and Engineering) by release and milestone.\n",
    "### [Metric: Product Management OKRs](#Product-Management-OKRs)\n",
    "The number of issues closed, open issues remaining and time spent towards product objectives (Strategic Accounts, vJSX, Performance, Cloud JSX, RN Upgrade, Enablement and Platform) by release and milestone.\n",
    "### [Metric: CRT Breakdown](#CRT-Breakdown)\n",
    "Lorem"
   ]
  },
  {
   "cell_type": "markdown",
   "metadata": {},
   "source": [
    "<hr>"
   ]
  },
  {
   "cell_type": "markdown",
   "metadata": {},
   "source": [
    "## Data Acquisition\n",
    "\n",
    "### Overview\n",
    "The Product Management Metrics & OKRs are derived from two sources of data- issue metadata and parent/child relationships between PM and Engineering JIRA issues. Raw changelog and issue metadata is retrieved using the Python JIRA API and transformed using Pandas. [Table 1.0](#Table-1.0) provides a sample \n",
    "\n",
    "\n",
    "_Talk about how data is extracted, proposed schema, mapping of existing data to metrics, requested product engineering lift and rationale supporting the proposed metrics._"
   ]
  },
  {
   "cell_type": "markdown",
   "metadata": {},
   "source": [
    "<br>\n",
    "<img src=\"src/schema-001.png\">\n",
    "<br>"
   ]
  },
  {
   "cell_type": "markdown",
   "metadata": {},
   "source": [
    "#### Figure 1.0\n",
    "_Required data and relationship between PM & Engineering JIRA issues_"
   ]
  },
  {
   "cell_type": "code",
   "execution_count": 4,
   "metadata": {
    "scrolled": false
   },
   "outputs": [
    {
     "data": {
      "text/html": [
       "<div>\n",
       "<style scoped>\n",
       "    .dataframe tbody tr th:only-of-type {\n",
       "        vertical-align: middle;\n",
       "    }\n",
       "\n",
       "    .dataframe tbody tr th {\n",
       "        vertical-align: top;\n",
       "    }\n",
       "\n",
       "    .dataframe thead th {\n",
       "        text-align: right;\n",
       "    }\n",
       "</style>\n",
       "<table border=\"1\" class=\"dataframe\">\n",
       "  <thead>\n",
       "    <tr style=\"text-align: right;\">\n",
       "      <th></th>\n",
       "      <th>pm_key</th>\n",
       "      <th>pm_id</th>\n",
       "      <th>related_key</th>\n",
       "      <th>related_id</th>\n",
       "      <th>related_type</th>\n",
       "      <th>updated_time</th>\n",
       "      <th>updated_status</th>\n",
       "      <th>fix_version</th>\n",
       "      <th>labels</th>\n",
       "      <th>5.2_candidate</th>\n",
       "      <th>5.7_candidate</th>\n",
       "      <th>5.8_candidate</th>\n",
       "      <th>Cloud_JSX</th>\n",
       "      <th>Customer_Priority</th>\n",
       "      <th>DDB</th>\n",
       "      <th>Design_Implementation</th>\n",
       "      <th>DevExperience</th>\n",
       "      <th>Enablement</th>\n",
       "      <th>Features</th>\n",
       "      <th>JSX</th>\n",
       "      <th>JSXSquad</th>\n",
       "      <th>Milestone1</th>\n",
       "      <th>Milestone2</th>\n",
       "      <th>Perf_Lists</th>\n",
       "      <th>Perf_Screen_Transition</th>\n",
       "      <th>Perf_Start_Time</th>\n",
       "      <th>Performance</th>\n",
       "      <th>Performance_Squad</th>\n",
       "      <th>Platform</th>\n",
       "      <th>Platforms</th>\n",
       "      <th>Product_Performance</th>\n",
       "      <th>Product_Solutions</th>\n",
       "      <th>Q4_2019_candidate_feature</th>\n",
       "      <th>RNCloud</th>\n",
       "      <th>RN_Upgrade</th>\n",
       "      <th>ReactNative</th>\n",
       "      <th>Services_Priority</th>\n",
       "      <th>Workflow</th>\n",
       "      <th>debugging</th>\n",
       "      <th>dep_core</th>\n",
       "      <th>installer</th>\n",
       "      <th>jira_escalated</th>\n",
       "    </tr>\n",
       "  </thead>\n",
       "  <tbody>\n",
       "    <tr>\n",
       "      <th>100</th>\n",
       "      <td>PM-122</td>\n",
       "      <td>81050</td>\n",
       "      <td>RN-1571</td>\n",
       "      <td>82678</td>\n",
       "      <td>Story</td>\n",
       "      <td>2019-02-19T11:50:43.449-0500</td>\n",
       "      <td>Doing</td>\n",
       "      <td>[]</td>\n",
       "      <td>['Milestone1', 'Perf_Lists', 'Performance_Squa...</td>\n",
       "      <td>0.0</td>\n",
       "      <td>0.0</td>\n",
       "      <td>0.0</td>\n",
       "      <td>0.0</td>\n",
       "      <td>0.0</td>\n",
       "      <td>0.0</td>\n",
       "      <td>0.0</td>\n",
       "      <td>0.0</td>\n",
       "      <td>0.0</td>\n",
       "      <td>0.0</td>\n",
       "      <td>0.0</td>\n",
       "      <td>0.0</td>\n",
       "      <td>1.0</td>\n",
       "      <td>0.0</td>\n",
       "      <td>1.0</td>\n",
       "      <td>0.0</td>\n",
       "      <td>0.0</td>\n",
       "      <td>0.0</td>\n",
       "      <td>1.0</td>\n",
       "      <td>0.0</td>\n",
       "      <td>0.0</td>\n",
       "      <td>1.0</td>\n",
       "      <td>1.0</td>\n",
       "      <td>0.0</td>\n",
       "      <td>0.0</td>\n",
       "      <td>0.0</td>\n",
       "      <td>0.0</td>\n",
       "      <td>0.0</td>\n",
       "      <td>0.0</td>\n",
       "      <td>0.0</td>\n",
       "      <td>0.0</td>\n",
       "      <td>0.0</td>\n",
       "      <td>0.0</td>\n",
       "    </tr>\n",
       "    <tr>\n",
       "      <th>101</th>\n",
       "      <td>PM-122</td>\n",
       "      <td>81050</td>\n",
       "      <td>RN-1571</td>\n",
       "      <td>82678</td>\n",
       "      <td>Story</td>\n",
       "      <td>2019-02-19T11:50:35.674-0500</td>\n",
       "      <td>To Do</td>\n",
       "      <td>[]</td>\n",
       "      <td>['Milestone1', 'Perf_Lists', 'Performance_Squa...</td>\n",
       "      <td>0.0</td>\n",
       "      <td>0.0</td>\n",
       "      <td>0.0</td>\n",
       "      <td>0.0</td>\n",
       "      <td>0.0</td>\n",
       "      <td>0.0</td>\n",
       "      <td>0.0</td>\n",
       "      <td>0.0</td>\n",
       "      <td>0.0</td>\n",
       "      <td>0.0</td>\n",
       "      <td>0.0</td>\n",
       "      <td>0.0</td>\n",
       "      <td>1.0</td>\n",
       "      <td>0.0</td>\n",
       "      <td>1.0</td>\n",
       "      <td>0.0</td>\n",
       "      <td>0.0</td>\n",
       "      <td>0.0</td>\n",
       "      <td>1.0</td>\n",
       "      <td>0.0</td>\n",
       "      <td>0.0</td>\n",
       "      <td>1.0</td>\n",
       "      <td>1.0</td>\n",
       "      <td>0.0</td>\n",
       "      <td>0.0</td>\n",
       "      <td>0.0</td>\n",
       "      <td>0.0</td>\n",
       "      <td>0.0</td>\n",
       "      <td>0.0</td>\n",
       "      <td>0.0</td>\n",
       "      <td>0.0</td>\n",
       "      <td>0.0</td>\n",
       "      <td>0.0</td>\n",
       "    </tr>\n",
       "    <tr>\n",
       "      <th>102</th>\n",
       "      <td>PM-122</td>\n",
       "      <td>81050</td>\n",
       "      <td>RN-1758</td>\n",
       "      <td>84352</td>\n",
       "      <td>Spike</td>\n",
       "      <td>2019-05-22T11:56:41.979-0400</td>\n",
       "      <td>Closed</td>\n",
       "      <td>[]</td>\n",
       "      <td>['Milestone1', 'Perf_Lists', 'Performance_Squa...</td>\n",
       "      <td>0.0</td>\n",
       "      <td>0.0</td>\n",
       "      <td>0.0</td>\n",
       "      <td>0.0</td>\n",
       "      <td>0.0</td>\n",
       "      <td>0.0</td>\n",
       "      <td>0.0</td>\n",
       "      <td>0.0</td>\n",
       "      <td>0.0</td>\n",
       "      <td>0.0</td>\n",
       "      <td>0.0</td>\n",
       "      <td>0.0</td>\n",
       "      <td>1.0</td>\n",
       "      <td>0.0</td>\n",
       "      <td>1.0</td>\n",
       "      <td>0.0</td>\n",
       "      <td>0.0</td>\n",
       "      <td>0.0</td>\n",
       "      <td>1.0</td>\n",
       "      <td>0.0</td>\n",
       "      <td>0.0</td>\n",
       "      <td>1.0</td>\n",
       "      <td>1.0</td>\n",
       "      <td>0.0</td>\n",
       "      <td>0.0</td>\n",
       "      <td>0.0</td>\n",
       "      <td>0.0</td>\n",
       "      <td>0.0</td>\n",
       "      <td>0.0</td>\n",
       "      <td>0.0</td>\n",
       "      <td>0.0</td>\n",
       "      <td>0.0</td>\n",
       "      <td>0.0</td>\n",
       "    </tr>\n",
       "    <tr>\n",
       "      <th>103</th>\n",
       "      <td>PM-122</td>\n",
       "      <td>81050</td>\n",
       "      <td>RN-1758</td>\n",
       "      <td>84352</td>\n",
       "      <td>Spike</td>\n",
       "      <td>2019-05-03T10:47:14.994-0400</td>\n",
       "      <td>Doing</td>\n",
       "      <td>[]</td>\n",
       "      <td>['Milestone1', 'Perf_Lists', 'Performance_Squa...</td>\n",
       "      <td>0.0</td>\n",
       "      <td>0.0</td>\n",
       "      <td>0.0</td>\n",
       "      <td>0.0</td>\n",
       "      <td>0.0</td>\n",
       "      <td>0.0</td>\n",
       "      <td>0.0</td>\n",
       "      <td>0.0</td>\n",
       "      <td>0.0</td>\n",
       "      <td>0.0</td>\n",
       "      <td>0.0</td>\n",
       "      <td>0.0</td>\n",
       "      <td>1.0</td>\n",
       "      <td>0.0</td>\n",
       "      <td>1.0</td>\n",
       "      <td>0.0</td>\n",
       "      <td>0.0</td>\n",
       "      <td>0.0</td>\n",
       "      <td>1.0</td>\n",
       "      <td>0.0</td>\n",
       "      <td>0.0</td>\n",
       "      <td>1.0</td>\n",
       "      <td>1.0</td>\n",
       "      <td>0.0</td>\n",
       "      <td>0.0</td>\n",
       "      <td>0.0</td>\n",
       "      <td>0.0</td>\n",
       "      <td>0.0</td>\n",
       "      <td>0.0</td>\n",
       "      <td>0.0</td>\n",
       "      <td>0.0</td>\n",
       "      <td>0.0</td>\n",
       "      <td>0.0</td>\n",
       "    </tr>\n",
       "    <tr>\n",
       "      <th>104</th>\n",
       "      <td>PM-122</td>\n",
       "      <td>81050</td>\n",
       "      <td>RN-1758</td>\n",
       "      <td>84352</td>\n",
       "      <td>Spike</td>\n",
       "      <td>2019-05-03T10:47:09.775-0400</td>\n",
       "      <td>To Do</td>\n",
       "      <td>[]</td>\n",
       "      <td>['Milestone1', 'Perf_Lists', 'Performance_Squa...</td>\n",
       "      <td>0.0</td>\n",
       "      <td>0.0</td>\n",
       "      <td>0.0</td>\n",
       "      <td>0.0</td>\n",
       "      <td>0.0</td>\n",
       "      <td>0.0</td>\n",
       "      <td>0.0</td>\n",
       "      <td>0.0</td>\n",
       "      <td>0.0</td>\n",
       "      <td>0.0</td>\n",
       "      <td>0.0</td>\n",
       "      <td>0.0</td>\n",
       "      <td>1.0</td>\n",
       "      <td>0.0</td>\n",
       "      <td>1.0</td>\n",
       "      <td>0.0</td>\n",
       "      <td>0.0</td>\n",
       "      <td>0.0</td>\n",
       "      <td>1.0</td>\n",
       "      <td>0.0</td>\n",
       "      <td>0.0</td>\n",
       "      <td>1.0</td>\n",
       "      <td>1.0</td>\n",
       "      <td>0.0</td>\n",
       "      <td>0.0</td>\n",
       "      <td>0.0</td>\n",
       "      <td>0.0</td>\n",
       "      <td>0.0</td>\n",
       "      <td>0.0</td>\n",
       "      <td>0.0</td>\n",
       "      <td>0.0</td>\n",
       "      <td>0.0</td>\n",
       "      <td>0.0</td>\n",
       "    </tr>\n",
       "  </tbody>\n",
       "</table>\n",
       "</div>"
      ],
      "text/plain": [
       "     pm_key  pm_id related_key  related_id related_type  \\\n",
       "100  PM-122  81050     RN-1571       82678        Story   \n",
       "101  PM-122  81050     RN-1571       82678        Story   \n",
       "102  PM-122  81050     RN-1758       84352        Spike   \n",
       "103  PM-122  81050     RN-1758       84352        Spike   \n",
       "104  PM-122  81050     RN-1758       84352        Spike   \n",
       "\n",
       "                     updated_time updated_status fix_version  \\\n",
       "100  2019-02-19T11:50:43.449-0500          Doing          []   \n",
       "101  2019-02-19T11:50:35.674-0500          To Do          []   \n",
       "102  2019-05-22T11:56:41.979-0400         Closed          []   \n",
       "103  2019-05-03T10:47:14.994-0400          Doing          []   \n",
       "104  2019-05-03T10:47:09.775-0400          To Do          []   \n",
       "\n",
       "                                                labels  5.2_candidate  \\\n",
       "100  ['Milestone1', 'Perf_Lists', 'Performance_Squa...            0.0   \n",
       "101  ['Milestone1', 'Perf_Lists', 'Performance_Squa...            0.0   \n",
       "102  ['Milestone1', 'Perf_Lists', 'Performance_Squa...            0.0   \n",
       "103  ['Milestone1', 'Perf_Lists', 'Performance_Squa...            0.0   \n",
       "104  ['Milestone1', 'Perf_Lists', 'Performance_Squa...            0.0   \n",
       "\n",
       "     5.7_candidate  5.8_candidate  Cloud_JSX  Customer_Priority  DDB  \\\n",
       "100            0.0            0.0        0.0                0.0  0.0   \n",
       "101            0.0            0.0        0.0                0.0  0.0   \n",
       "102            0.0            0.0        0.0                0.0  0.0   \n",
       "103            0.0            0.0        0.0                0.0  0.0   \n",
       "104            0.0            0.0        0.0                0.0  0.0   \n",
       "\n",
       "     Design_Implementation  DevExperience  Enablement  Features  JSX  \\\n",
       "100                    0.0            0.0         0.0       0.0  0.0   \n",
       "101                    0.0            0.0         0.0       0.0  0.0   \n",
       "102                    0.0            0.0         0.0       0.0  0.0   \n",
       "103                    0.0            0.0         0.0       0.0  0.0   \n",
       "104                    0.0            0.0         0.0       0.0  0.0   \n",
       "\n",
       "     JSXSquad  Milestone1  Milestone2  Perf_Lists  Perf_Screen_Transition  \\\n",
       "100       0.0         1.0         0.0         1.0                     0.0   \n",
       "101       0.0         1.0         0.0         1.0                     0.0   \n",
       "102       0.0         1.0         0.0         1.0                     0.0   \n",
       "103       0.0         1.0         0.0         1.0                     0.0   \n",
       "104       0.0         1.0         0.0         1.0                     0.0   \n",
       "\n",
       "     Perf_Start_Time  Performance  Performance_Squad  Platform  Platforms  \\\n",
       "100              0.0          0.0                1.0       0.0        0.0   \n",
       "101              0.0          0.0                1.0       0.0        0.0   \n",
       "102              0.0          0.0                1.0       0.0        0.0   \n",
       "103              0.0          0.0                1.0       0.0        0.0   \n",
       "104              0.0          0.0                1.0       0.0        0.0   \n",
       "\n",
       "     Product_Performance  Product_Solutions  Q4_2019_candidate_feature  \\\n",
       "100                  1.0                1.0                        0.0   \n",
       "101                  1.0                1.0                        0.0   \n",
       "102                  1.0                1.0                        0.0   \n",
       "103                  1.0                1.0                        0.0   \n",
       "104                  1.0                1.0                        0.0   \n",
       "\n",
       "     RNCloud  RN_Upgrade  ReactNative  Services_Priority  Workflow  debugging  \\\n",
       "100      0.0         0.0          0.0                0.0       0.0        0.0   \n",
       "101      0.0         0.0          0.0                0.0       0.0        0.0   \n",
       "102      0.0         0.0          0.0                0.0       0.0        0.0   \n",
       "103      0.0         0.0          0.0                0.0       0.0        0.0   \n",
       "104      0.0         0.0          0.0                0.0       0.0        0.0   \n",
       "\n",
       "     dep_core  installer  jira_escalated  \n",
       "100       0.0        0.0             0.0  \n",
       "101       0.0        0.0             0.0  \n",
       "102       0.0        0.0             0.0  \n",
       "103       0.0        0.0             0.0  \n",
       "104       0.0        0.0             0.0  "
      ]
     },
     "execution_count": 4,
     "metadata": {},
     "output_type": "execute_result"
    }
   ],
   "source": [
    "pd.set_option('display.max_columns', None)\n",
    "\n",
    "sample = pd.read_csv('pm_changelog_clean.csv').drop(['Unnamed: 0', 'remove'], axis=1)\n",
    "sample[100:105]"
   ]
  },
  {
   "cell_type": "markdown",
   "metadata": {},
   "source": [
    "#### Table 1.0\n",
    "_Sample of data extracted based on PM → Engineering JIRA issue relationships._"
   ]
  },
  {
   "cell_type": "markdown",
   "metadata": {},
   "source": [
    "<hr>"
   ]
  },
  {
   "cell_type": "markdown",
   "metadata": {},
   "source": [
    "## Milestone Investment\n",
    "\n",
    "The number of issues closed and hours spent towards each of the product investment categories (Product Backlog, CRT, Quality and Engineering) by release and milestone."
   ]
  },
  {
   "cell_type": "markdown",
   "metadata": {},
   "source": [
    "| Data Point | Data Source | Work Metric | Time Metric |\n",
    "|:---|:---|:---|:---|\n",
    "| Milestone | Label: `Milestone`, Date Range | N/A | N/A |\n",
    "| Release | Field: `Fix_Version`, Date Range | N/A | N/A |\n",
    "| Product Backlog | Children of issues linked to PM issue | Sum of Closed Issues in milestone label/date range.\t | Sum time deltas of status changes to doing, test, documentation, verified, closed. |\n",
    "| CRT | Label: `Customer_Priority`, `Services_Priority` on PM issue | Sum of Closed Issues in milestone label/date range.\t | Sum time deltas of status changes to doing, test, documentation, verified, closed. |\n",
    "| Quality | Issue Type: `Bug` | Sum of Closed Issues in milestone label/date range.\t | Sum time deltas of status changes to doing, test, documentation, verified, closed. |\n",
    "| Engineering | Label: `DDB`, Delta between PM-linked issues and all Engineering issues | Sum of Closed Issues in milestone label/date range.\t | Sum time deltas of status changes to doing, test, documentation, verified, closed. |"
   ]
  },
  {
   "cell_type": "markdown",
   "metadata": {},
   "source": [
    "<br>\n",
    "<img src=\"src/milestone_investment.png\">\n",
    "<br>"
   ]
  },
  {
   "cell_type": "markdown",
   "metadata": {},
   "source": [
    "<hr>"
   ]
  },
  {
   "cell_type": "markdown",
   "metadata": {},
   "source": [
    "## Product Management OKRs\n",
    "\n",
    "The number of issues closed, open issues remaining and time spent towards product objectives (Strategic Accounts, vJSX, Performance, Cloud JSX, RN Upgrade, Enablement and Platform) by release and milestone."
   ]
  },
  {
   "cell_type": "markdown",
   "metadata": {},
   "source": [
    "| Data Point | Data Source | Work Metric | Time Metric |\n",
    "|:---|:---|:---|:---|\n",
    "| Milestone | Label: `Milestone`, Date Range | N/A | N/A |\n",
    "| Release | Field: `Fix_Version`, Date Range | N/A | N/A |\n",
    "| Product Backlog | Label: `Strategic_Accounts`, `vJSX`, `Performance`, `Cloud JSX`, `RN Upgrade`, `Enablement`, `Platform` | Sum of closed issues with Product Backlog label in milestone label/date range.<br/><br/>Sum of total issues with Product Backlog label in milestone label/date range. | Sum time deltas of status changes to doing, test, documentation, verified, closed. |"
   ]
  },
  {
   "cell_type": "markdown",
   "metadata": {},
   "source": [
    "<br>\n",
    "<img src=\"src/pm_okrs.png\">\n",
    "<br>"
   ]
  },
  {
   "cell_type": "markdown",
   "metadata": {},
   "source": [
    "<hr>"
   ]
  },
  {
   "cell_type": "markdown",
   "metadata": {},
   "source": [
    "## CRT Breakdown\n",
    "\n",
    "_Explanation goes here_"
   ]
  },
  {
   "cell_type": "markdown",
   "metadata": {},
   "source": [
    "<hr>"
   ]
  },
  {
   "cell_type": "code",
   "execution_count": null,
   "metadata": {},
   "outputs": [],
   "source": []
  }
 ],
 "metadata": {
  "kernelspec": {
   "display_name": "Python 3",
   "language": "python",
   "name": "python3"
  },
  "language_info": {
   "codemirror_mode": {
    "name": "ipython",
    "version": 3
   },
   "file_extension": ".py",
   "mimetype": "text/x-python",
   "name": "python",
   "nbconvert_exporter": "python",
   "pygments_lexer": "ipython3",
   "version": "3.6.5"
  }
 },
 "nbformat": 4,
 "nbformat_minor": 2
}
